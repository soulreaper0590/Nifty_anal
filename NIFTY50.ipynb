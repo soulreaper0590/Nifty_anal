{
 "cells": [
  {
   "cell_type": "code",
   "execution_count": 1,
   "id": "187a17b4",
   "metadata": {},
   "outputs": [],
   "source": [
    "import yfinance as yf\n",
    "import numpy as np"
   ]
  },
  {
   "cell_type": "code",
   "execution_count": 2,
   "id": "933ef112",
   "metadata": {},
   "outputs": [],
   "source": [
    "import pandas as pd"
   ]
  },
  {
   "cell_type": "code",
   "execution_count": 3,
   "id": "7fbb8779",
   "metadata": {},
   "outputs": [],
   "source": [
    "def calculate_sharpe_ratio(returns, risk_free_rate):\n",
    "    excess_returns = returns - risk_free_rate\n",
    "    avg_return = np.mean(excess_returns) * len(returns)\n",
    "    std_dev = np.std(returns) * np.sqrt(len(returns))\n",
    "    sharpe_ratio = avg_return / std_dev\n",
    "\n",
    "    return sharpe_ratio"
   ]
  },
  {
   "cell_type": "code",
   "execution_count": 4,
   "id": "d974c402",
   "metadata": {},
   "outputs": [],
   "source": [
    "stocks = pd.read_csv(\"ind_nifty50list.csv\")"
   ]
  },
  {
   "cell_type": "code",
   "execution_count": 5,
   "id": "6c06a8c9",
   "metadata": {},
   "outputs": [],
   "source": [
    "stock_list = list(stocks[\"Symbol\"])\n",
    "stock_data = {}"
   ]
  },
  {
   "cell_type": "code",
   "execution_count": 6,
   "id": "5727a4f7",
   "metadata": {},
   "outputs": [],
   "source": [
    "yearly_rfi = .06\n",
    "import math\n",
    "daily_rfi = (10**(math.log(1.06,10)/365))-1\n"
   ]
  },
  {
   "cell_type": "code",
   "execution_count": 18,
   "id": "ae7b88f0",
   "metadata": {},
   "outputs": [
    {
     "name": "stdout",
     "output_type": "stream",
     "text": [
      "[*********************100%***********************]  1 of 1 completed\n",
      "[*********************100%***********************]  1 of 1 completed\n",
      "[*********************100%***********************]  1 of 1 completed\n",
      "[*********************100%***********************]  1 of 1 completed\n",
      "[*********************100%***********************]  1 of 1 completed\n",
      "[*********************100%***********************]  1 of 1 completed\n",
      "[*********************100%***********************]  1 of 1 completed\n",
      "[*********************100%***********************]  1 of 1 completed\n",
      "[*********************100%***********************]  1 of 1 completed\n",
      "[*********************100%***********************]  1 of 1 completed\n",
      "[*********************100%***********************]  1 of 1 completed\n",
      "[*********************100%***********************]  1 of 1 completed\n",
      "[*********************100%***********************]  1 of 1 completed\n",
      "[*********************100%***********************]  1 of 1 completed\n",
      "[*********************100%***********************]  1 of 1 completed\n",
      "[*********************100%***********************]  1 of 1 completed\n",
      "[*********************100%***********************]  1 of 1 completed\n",
      "[*********************100%***********************]  1 of 1 completed\n",
      "[*********************100%***********************]  1 of 1 completed\n",
      "[*********************100%***********************]  1 of 1 completed\n",
      "[*********************100%***********************]  1 of 1 completed\n",
      "[*********************100%***********************]  1 of 1 completed\n",
      "[*********************100%***********************]  1 of 1 completed\n",
      "[*********************100%***********************]  1 of 1 completed\n",
      "[*********************100%***********************]  1 of 1 completed\n",
      "[*********************100%***********************]  1 of 1 completed\n",
      "[*********************100%***********************]  1 of 1 completed\n",
      "[*********************100%***********************]  1 of 1 completed\n",
      "[*********************100%***********************]  1 of 1 completed\n",
      "[*********************100%***********************]  1 of 1 completed\n",
      "[*********************100%***********************]  1 of 1 completed\n",
      "[*********************100%***********************]  1 of 1 completed\n",
      "[*********************100%***********************]  1 of 1 completed\n",
      "[*********************100%***********************]  1 of 1 completed\n",
      "[*********************100%***********************]  1 of 1 completed\n",
      "[*********************100%***********************]  1 of 1 completed\n",
      "[*********************100%***********************]  1 of 1 completed\n",
      "[*********************100%***********************]  1 of 1 completed\n",
      "[*********************100%***********************]  1 of 1 completed\n",
      "[*********************100%***********************]  1 of 1 completed\n",
      "[*********************100%***********************]  1 of 1 completed\n",
      "[*********************100%***********************]  1 of 1 completed\n",
      "[*********************100%***********************]  1 of 1 completed\n",
      "[*********************100%***********************]  1 of 1 completed\n",
      "[*********************100%***********************]  1 of 1 completed\n",
      "[*********************100%***********************]  1 of 1 completed\n",
      "[*********************100%***********************]  1 of 1 completed\n",
      "[*********************100%***********************]  1 of 1 completed\n",
      "[*********************100%***********************]  1 of 1 completed\n",
      "[*********************100%***********************]  1 of 1 completed\n"
     ]
    }
   ],
   "source": [
    "#Download the data for the stocks in the NIFTY 50 Portfolio\n",
    "for stock in stock_list:\n",
    "    stock = stock + \".NS\"\n",
    "    ticker = yf.download(stock, start=\"2022-01-01\", end=\"2022-12-31\")[\"Close\"]\n",
    "    returns = ticker.pct_change()\n",
    "    stock_data[stock] = returns[1:]"
   ]
  },
  {
   "cell_type": "code",
   "execution_count": 23,
   "id": "879e0a19",
   "metadata": {},
   "outputs": [],
   "source": [
    "returns = np.zeros((50,247))\n",
    "for i,k in enumerate(stock_data):\n",
    "    for p,q in enumerate(stock_data[k]):\n",
    "        returns[i][p] = q"
   ]
  },
  {
   "cell_type": "code",
   "execution_count": 10,
   "id": "e7a703ef",
   "metadata": {},
   "outputs": [],
   "source": [
    "nifty_data = pd.read_csv(\"Nifty50.csv\")"
   ]
  },
  {
   "cell_type": "code",
   "execution_count": 11,
   "id": "51f00836",
   "metadata": {},
   "outputs": [],
   "source": [
    "nifty_daily_returns = nifty_data[\"Close\"].pct_change()[1:]"
   ]
  },
  {
   "cell_type": "code",
   "execution_count": 12,
   "id": "b046c4ce",
   "metadata": {},
   "outputs": [],
   "source": [
    "nifty_standard_deviation = nifty_daily_returns.std()"
   ]
  },
  {
   "cell_type": "code",
   "execution_count": 13,
   "id": "91693e18",
   "metadata": {},
   "outputs": [],
   "source": [
    "nifty_sharpe = calculate_sharpe_ratio(nifty_daily_returns,daily_rfi)"
   ]
  },
  {
   "cell_type": "code",
   "execution_count": 14,
   "id": "9bc97722",
   "metadata": {},
   "outputs": [
    {
     "data": {
      "text/plain": [
       "0.011974542562673334"
      ]
     },
     "execution_count": 14,
     "metadata": {},
     "output_type": "execute_result"
    }
   ],
   "source": [
    "nifty_sharpe"
   ]
  },
  {
   "cell_type": "code",
   "execution_count": 24,
   "id": "34811ed3",
   "metadata": {},
   "outputs": [
    {
     "data": {
      "text/plain": [
       "(50, 247)"
      ]
     },
     "execution_count": 24,
     "metadata": {},
     "output_type": "execute_result"
    }
   ],
   "source": [
    "returns.shape"
   ]
  },
  {
   "cell_type": "code",
   "execution_count": 25,
   "id": "6e373617",
   "metadata": {},
   "outputs": [],
   "source": [
    "import cvxpy as cp\n",
    "weights = cp.Variable(50)"
   ]
  },
  {
   "cell_type": "markdown",
   "id": "d6473d8e",
   "metadata": {},
   "source": [
    "## First Apporach\n",
    "##### We assume that problem is just maximizing the mean return on the portfolio(so that this becomes a convex problem), after which we uset the convex solvers in python to solve for weights of the portfolio given the contraints. The solution gives optimal for maximum excess returns without worrying about the standard deviation"
   ]
  },
  {
   "cell_type": "code",
   "execution_count": 26,
   "id": "51518cd8",
   "metadata": {},
   "outputs": [],
   "source": [
    "mean_returns = np.mean(returns, axis=1)"
   ]
  },
  {
   "cell_type": "code",
   "execution_count": 27,
   "id": "4634a0c0",
   "metadata": {},
   "outputs": [],
   "source": [
    "excess_mean_returns = mean_returns - daily_rfi"
   ]
  },
  {
   "cell_type": "code",
   "execution_count": 28,
   "id": "57ecb329",
   "metadata": {},
   "outputs": [],
   "source": [
    "calc_std_dev = cp.sqrt(cp.quad_form(weights, np.cov(returns)))\n",
    "sharpe_ratio = excess_mean_returns @ weights"
   ]
  },
  {
   "cell_type": "code",
   "execution_count": 29,
   "id": "0ed0efac",
   "metadata": {},
   "outputs": [
    {
     "data": {
      "text/plain": [
       "(50, 50)"
      ]
     },
     "execution_count": 29,
     "metadata": {},
     "output_type": "execute_result"
    }
   ],
   "source": [
    "np.cov(returns).shape"
   ]
  },
  {
   "cell_type": "code",
   "execution_count": 30,
   "id": "0e9e5091",
   "metadata": {},
   "outputs": [],
   "source": [
    "constraints = [\n",
    "        cp.sum(weights) == 1, \n",
    "        weights >= 0, \n",
    "        weights <= .1\n",
    "    ]"
   ]
  },
  {
   "cell_type": "code",
   "execution_count": 31,
   "id": "7aca41d4",
   "metadata": {},
   "outputs": [],
   "source": [
    "problem = cp.Problem(cp.Maximize(sharpe_ratio), constraints)"
   ]
  },
  {
   "cell_type": "code",
   "execution_count": 32,
   "id": "9c4a89c4",
   "metadata": {},
   "outputs": [],
   "source": [
    "final_mean_ret = problem.solve()"
   ]
  },
  {
   "cell_type": "code",
   "execution_count": 33,
   "id": "b92ac8a2",
   "metadata": {},
   "outputs": [
    {
     "data": {
      "text/plain": [
       "numpy.ndarray"
      ]
     },
     "execution_count": 33,
     "metadata": {},
     "output_type": "execute_result"
    }
   ],
   "source": [
    "type(weights.value)"
   ]
  },
  {
   "cell_type": "code",
   "execution_count": 34,
   "id": "f88efa67",
   "metadata": {},
   "outputs": [],
   "source": [
    "std_dev = np.sqrt(np.matmul(np.matmul(weights.value,np.cov(returns)), weights.value.T))"
   ]
  },
  {
   "cell_type": "markdown",
   "id": "0186e71a",
   "metadata": {},
   "source": [
    "# Final Sharpe "
   ]
  },
  {
   "cell_type": "code",
   "execution_count": 35,
   "id": "bf50890a",
   "metadata": {},
   "outputs": [
    {
     "data": {
      "text/plain": [
       "0.11028468766925696"
      ]
     },
     "execution_count": 35,
     "metadata": {},
     "output_type": "execute_result"
    }
   ],
   "source": [
    "final_mean_ret/std_dev"
   ]
  },
  {
   "cell_type": "code",
   "execution_count": 37,
   "id": "fca9ab0b",
   "metadata": {},
   "outputs": [
    {
     "data": {
      "text/plain": [
       "0.002028552361922311"
      ]
     },
     "execution_count": 37,
     "metadata": {},
     "output_type": "execute_result"
    }
   ],
   "source": [
    "std_dev - nifty_standard_deviation"
   ]
  },
  {
   "cell_type": "markdown",
   "id": "2119e542",
   "metadata": {},
   "source": [
    "# Second Approach\n",
    "#### Since the first approach we ended with standard deviation greater than that of nifty 50, we try to the next approach where we try minimize the standard deviation (as it comes in the denominator of the sharpe ratio). \n",
    "\n",
    "## But as we can see the performance sharpe ratio takes an big hit ..."
   ]
  },
  {
   "cell_type": "code",
   "execution_count": 38,
   "id": "50321ece",
   "metadata": {},
   "outputs": [
    {
     "data": {
      "text/plain": [
       "0.01078552607927355"
      ]
     },
     "execution_count": 38,
     "metadata": {},
     "output_type": "execute_result"
    }
   ],
   "source": [
    "weights = cp.Variable(50)\n",
    "mean_returns = np.mean(returns, axis=1)\n",
    "excess_mean_returns = mean_returns - daily_rfi\n",
    "calc_std_dev = cp.sqrt(cp.quad_form(weights, np.cov(returns)))\n",
    "sharpe_ratio = excess_mean_returns @ weights/calc_std_dev\n",
    "cons = [\n",
    "        cp.sum(weights) == 1, \n",
    "        weights >= 0, \n",
    "        weights <= .1\n",
    "    ]\n",
    "problem = cp.Problem(cp.Minimize(calc_std_dev), cons)\n",
    "problem.solve(qcp=True)"
   ]
  },
  {
   "cell_type": "code",
   "execution_count": 39,
   "id": "c7add819",
   "metadata": {},
   "outputs": [],
   "source": [
    "std_dev = np.sqrt(np.matmul(np.matmul(weights.value,np.cov(returns)), weights.value.T))"
   ]
  },
  {
   "cell_type": "markdown",
   "id": "d3bd3c01",
   "metadata": {},
   "source": [
    "# Final Sharpe "
   ]
  },
  {
   "cell_type": "code",
   "execution_count": 40,
   "id": "257aa61c",
   "metadata": {},
   "outputs": [
    {
     "data": {
      "text/plain": [
       "0.01371698180763822"
      ]
     },
     "execution_count": 40,
     "metadata": {},
     "output_type": "execute_result"
    }
   ],
   "source": [
    "excess_mean_returns@ weights.value/std_dev"
   ]
  },
  {
   "cell_type": "markdown",
   "id": "9983fd9c",
   "metadata": {},
   "source": [
    "# Third Approach \n",
    "\n",
    "#### Final approach using non linear convex solvers, maximizing approach : We keep constraint(Upper Limit) on the denomintor(which is a convex function), then we Maximize the numerator only(which in itself is also a convex function). This solves all the contraints and the problem of having a non convex optimizer as optimizing function"
   ]
  },
  {
   "cell_type": "code",
   "execution_count": 82,
   "id": "b2082c57",
   "metadata": {},
   "outputs": [
    {
     "name": "stdout",
     "output_type": "stream",
     "text": [
      "Final Sharpe =  0.12555965692706425\n"
     ]
    }
   ],
   "source": [
    "weights = cp.Variable(50)\n",
    "mean_returns = np.mean(returns, axis=1)\n",
    "excess_mean_returns = mean_returns - daily_rfi\n",
    "calc_std_dev = cp.sqrt(cp.quad_form(weights, np.cov(returns)))\n",
    "sharpe_ratio = excess_mean_returns @ weights\n",
    "cons = [\n",
    "        cp.sum(weights) == 1, \n",
    "        weights >= 0, \n",
    "        weights <= .1,\n",
    "        cp.sqrt(cp.quad_form(weights, np.cov(returns))) <= nifty_standard_deviation\n",
    "    ]\n",
    "problem = cp.Problem(cp.Maximize(sharpe_ratio), cons)\n",
    "problem.solve(qcp=True)\n",
    "std_dev = np.sqrt(np.matmul(np.matmul(weights.value,np.cov(returns)), weights.value.T))\n",
    "print(\"Final Sharpe = \" , excess_mean_returns@ weights.value/std_dev)"
   ]
  },
  {
   "cell_type": "code",
   "execution_count": 83,
   "id": "eae5789a",
   "metadata": {},
   "outputs": [
    {
     "name": "stdout",
     "output_type": "stream",
     "text": [
      "-1.0755327669916687e-06\n",
      "0.0999947880677985 3.838963066848376e-06\n"
     ]
    }
   ],
   "source": [
    "std_dev = np.sqrt(np.matmul(np.matmul(weights.value,np.cov(returns)), weights.value.T))\n",
    "print(std_dev - nifty_standard_deviation)\n",
    "print(np.max(weights.value), np.min(weights.value))"
   ]
  },
  {
   "cell_type": "markdown",
   "id": "ea0ec234",
   "metadata": {},
   "source": [
    "###  This converges at  .125 .¶\n",
    "#### But we move on to checks standard deviation less than nifty, ratios less 0.1(max: 0.0999994), greater than 0(min : 0.000004), , and sum as well 1"
   ]
  },
  {
   "cell_type": "markdown",
   "id": "f36487c9",
   "metadata": {},
   "source": [
    "## Fourth Approach\n",
    "#### Well in the previous approach we have a limit on the function to make it concave, by removing the denominator. But by doing this what we have also done is not given the optimizer and incentive of bringing down the standard deviation(excpet) which plays a key role in sharpe ratio maximization. Since we still have to matain the concavity of the function, hence we remove the sqrt of standard deviation make it variance, and subtract it from the function earlier(Subtract as we want incentive to reduce the variance). This gives the optimizers to find part of allowed area that minimizes the standard deviation and maximizes the exvcess returns as well.\n",
    " \\mbox{maximize} & \\mu^T w -  w^T\\Sigma w\\\\\n",
    "\n",
    "\n",
    "where $w \\in {\\bf \\{0,.1\\}}^n$ is the weights,  {\\bf 1}^T w = 1, and $w^T\\Sigma w$ < $niftystandraddev^2 $.\n",
    "\n",
    "The objective $\\mu^Tw -  w^T\\Sigma w$. "
   ]
  },
  {
   "cell_type": "code",
   "execution_count": 89,
   "id": "d175344d",
   "metadata": {},
   "outputs": [
    {
     "name": "stdout",
     "output_type": "stream",
     "text": [
      "===============================================================================\n",
      "                                     CVXPY                                     \n",
      "                                     v1.3.1                                    \n",
      "===============================================================================\n",
      "(CVXPY) May 28 11:01:40 PM: Your problem has 50 variables, 4 constraints, and 0 parameters.\n",
      "(CVXPY) May 28 11:01:40 PM: It is compliant with the following grammars: DQCP\n",
      "(CVXPY) May 28 11:01:40 PM: (If you need to solve this problem multiple times, but with different data, consider using parameters.)\n",
      "(CVXPY) May 28 11:01:40 PM: CVXPY will first compile your problem; then, it will invoke a numerical solver to obtain a solution.\n",
      "(CVXPY) May 28 11:01:40 PM: Reducing DQCP problem to a one-parameter family of DCP problems, for bisection.\n",
      "\n",
      "********************************************************************************\n",
      "Preparing to bisect problem\n",
      "\n",
      "minimize 0.0\n",
      "subject to Sum(var11116, None, False) == 1.0\n",
      "           0.0 <= var11116\n",
      "           var11116 <= 0.1\n",
      "           0.006297397692761396 @ var11166 <= power(0.010892960588578882, 2.0)\n",
      "           SOC(reshape(1.0, (1,), F) + var11166, Hstack(reshape(1.0, (1,), F) + -var11166, Promote(2.0, (50,)) @ reshape([[-0.00410689  0.00373959 -0.00021394 ... -0.00109994 -0.00347274\n",
      "   0.0054901 ]\n",
      " [ 0.00192841 -0.01020446  0.00498922 ... -0.00131438 -0.00925999\n",
      "  -0.00448017]\n",
      " [ 0.00603048 -0.01023156 -0.00157284 ... -0.00136495  0.01044212\n",
      "  -0.01588184]\n",
      " ...\n",
      " [-0.06254025 -0.03066427  0.03690813 ... -0.00376845  0.01853559\n",
      "   0.09368644]\n",
      " [-0.00636572 -0.00260868 -0.00519153 ...  0.05157842 -0.05033999\n",
      "   0.0020136 ]\n",
      " [-0.21205619 -0.20738575 -0.13456175 ... -0.15428248 -0.1396335\n",
      "  -0.14576093]] @ var11116, (50,), F)))\n",
      "           -[ 3.39987666e-03  5.00798965e-04 -3.92163398e-04 -4.32352989e-04\n",
      "  1.19445446e-03  3.51046829e-04 -3.29228286e-04 -3.08830749e-04\n",
      " -6.43878980e-04  5.72044915e-04  6.58495189e-04  5.27583045e-04\n",
      "  1.58266970e-03 -1.23282731e-03 -5.95154325e-04  7.10051108e-04\n",
      "  1.50862526e-04 -1.01132881e-03  2.49263405e-04 -5.57822440e-04\n",
      "  4.12894379e-04  1.40664827e-04  2.90492643e-04  5.30414177e-07\n",
      "  5.62932440e-04  1.61002773e-03  1.25929847e-03 -9.38109563e-04\n",
      "  6.80020423e-04 -3.06318946e-05  2.95143856e-04  1.66082075e-03\n",
      "  4.43480200e-04  1.10353093e-03 -9.54258939e-05  2.36254706e-04\n",
      "  1.44935676e-04  2.14826402e-04  4.22050697e-05  1.04971065e-03\n",
      "  6.11412901e-04 -6.94800990e-04  8.75061808e-05 -9.16345058e-04\n",
      "  9.93403678e-05 -2.25091407e-03  1.15193922e-04 -2.41332199e-04\n",
      " -4.33167722e-04 -2.45622259e-03] @ var11116 + -10.0 @ 0.006297397692761396 @ var11190 <= param11181\n",
      "           SOC(reshape(1.0, (1,), F) + var11190, Hstack(reshape(1.0, (1,), F) + -var11190, Promote(2.0, (50,)) @ reshape([[-0.00410689  0.00373959 -0.00021394 ... -0.00109994 -0.00347274\n",
      "   0.0054901 ]\n",
      " [ 0.00192841 -0.01020446  0.00498922 ... -0.00131438 -0.00925999\n",
      "  -0.00448017]\n",
      " [ 0.00603048 -0.01023156 -0.00157284 ... -0.00136495  0.01044212\n",
      "  -0.01588184]\n",
      " ...\n",
      " [-0.06254025 -0.03066427  0.03690813 ... -0.00376845  0.01853559\n",
      "   0.09368644]\n",
      " [-0.00636572 -0.00260868 -0.00519153 ...  0.05157842 -0.05033999\n",
      "   0.0020136 ]\n",
      " [-0.21205619 -0.20738575 -0.13456175 ... -0.15428248 -0.1396335\n",
      "  -0.14576093]] @ var11116, (50,), F)))\n",
      "\n",
      "Finding interval for bisection ...\n",
      "initial lower bound: -1.000000\n",
      "initial upper bound: 1.000000\n",
      "\n",
      "(iteration 0) lower bound: -1.000000\n",
      "(iteration 0) upper bound: 1.000000\n",
      "(iteration 0) query point: 0.000000 \n",
      "(iteration 0) query was feasible. Solution(status=optimal, opt_val=0.0, primal_vars={11116: array([0.09487092, 0.00285083, 0.00403209, 0.00543829, 0.03738602,\n",
      "       0.01764111, 0.0020437 , 0.00220199, 0.00365243, 0.02550325,\n",
      "       0.07877384, 0.09595296, 0.06475489, 0.00261081, 0.00663902,\n",
      "       0.00999216, 0.00383257, 0.00293807, 0.00972528, 0.00283196,\n",
      "       0.00872834, 0.00271268, 0.01546255, 0.00480176, 0.01155664,\n",
      "       0.09847891, 0.00764396, 0.00279766, 0.00459031, 0.00689361,\n",
      "       0.00570932, 0.07143421, 0.00923093, 0.07549918, 0.01792332,\n",
      "       0.0361088 , 0.01855883, 0.00665492, 0.00644133, 0.01703573,\n",
      "       0.07300454, 0.00418241, 0.00515864, 0.00068931, 0.0024402 ,\n",
      "       0.00052481, 0.00481309, 0.00329106, 0.00351847, 0.00044229]), 11166: array([0.01657298]), 11190: array([0.01608217])}, dual_vars={11127: -2.0461431070230415e-12, 11132: array([2.04525608e-13, 3.60661873e-12, 2.45275587e-12, 1.72578837e-12,\n",
      "       1.22078184e-13, 4.31152430e-13, 3.96018306e-12, 3.78008835e-12,\n",
      "       2.73997491e-12, 2.28557439e-13, 2.31328312e-13, 1.67751834e-13,\n",
      "       3.15471317e-13, 3.30809329e-12, 1.74739514e-12, 1.02589344e-12,\n",
      "       2.61423846e-12, 3.02845108e-12, 7.53682325e-13, 3.29310240e-12,\n",
      "       1.17158774e-12, 3.39566421e-12, 5.49949613e-13, 1.97470964e-12,\n",
      "       7.76015869e-13, 1.40560693e-13, 1.36579950e-12, 3.01511613e-12,\n",
      "       2.31714393e-12, 1.42926059e-12, 1.84779682e-12, 4.16961935e-13,\n",
      "       1.13653232e-12, 3.00347399e-13, 4.51784660e-13, 3.44083610e-13,\n",
      "       5.63160165e-13, 1.64259317e-12, 1.66479780e-12, 4.35727425e-13,\n",
      "       3.78362503e-13, 2.23551745e-12, 2.11376083e-12, 6.47611955e-12,\n",
      "       3.82064592e-12, 6.16358353e-12, 2.13920384e-12, 3.03846995e-12,\n",
      "       2.78436866e-12, 6.26270992e-12]), 11137: array([1.46106416e-12, 1.23346180e-13, 1.27392970e-13, 1.31672329e-13,\n",
      "       2.17719771e-13, 1.60661953e-13, 1.20252104e-13, 1.20823161e-13,\n",
      "       1.26173056e-13, 1.73612057e-13, 6.22547124e-13, 7.67301191e-13,\n",
      "       1.79864614e-13, 1.22276436e-13, 1.36319434e-13, 1.45098842e-13,\n",
      "       1.26668961e-13, 1.23467671e-13, 1.42437915e-13, 1.23212207e-13,\n",
      "       1.41632561e-13, 1.22666301e-13, 1.58205135e-13, 1.29555532e-13,\n",
      "       1.47710817e-13, 1.76912162e-12, 1.37954714e-13, 1.22888234e-13,\n",
      "       1.29107302e-13, 1.35913915e-13, 1.32854385e-13, 5.60454001e-13,\n",
      "       1.42960895e-13, 3.87567468e-13, 1.64230359e-13, 1.85884452e-13,\n",
      "       1.66234301e-13, 1.35891441e-13, 1.35367787e-13, 1.57567714e-13,\n",
      "       5.78450352e-13, 1.27704957e-13, 1.31428462e-13, 1.15186706e-13,\n",
      "       1.21789554e-13, 1.14586651e-13, 1.30008502e-13, 1.24869992e-13,\n",
      "       1.25655844e-13, 1.14283629e-13]), 11161: array([1.42434601e-09]), 11174: array([ 4.52993899e-12, -4.38221011e-12,  1.61909981e-14, -2.36376995e-14,\n",
      "       -4.46732103e-16,  1.47846195e-14,  7.62305175e-16, -1.19283899e-14,\n",
      "        4.14194828e-15,  2.43416593e-14,  2.23775968e-14, -4.45479325e-15,\n",
      "       -8.82344399e-15, -3.94148543e-14, -5.27960733e-14, -1.52792786e-14,\n",
      "        2.85331379e-14, -5.48465420e-14, -2.86511629e-14, -2.19601819e-14,\n",
      "       -9.26329717e-15, -5.96184023e-14, -2.20523252e-14,  1.38300014e-14,\n",
      "       -2.03622187e-14,  1.98454964e-14, -5.32793281e-15, -1.21739819e-14,\n",
      "        4.68355108e-14,  6.75026902e-14, -2.53320868e-15,  1.05958179e-13,\n",
      "        3.69679310e-14, -4.08236578e-14, -7.33838852e-14,  3.98847758e-14,\n",
      "       -7.87437368e-14, -2.56905938e-14,  5.52479156e-14,  9.68618046e-15,\n",
      "       -1.28690115e-13, -1.32239864e-14, -1.32448262e-13,  1.73325757e-14,\n",
      "        7.23916019e-14, -6.20044813e-14, -4.51070812e-14, -8.52492151e-14,\n",
      "        1.26394600e-13,  2.05272455e-13, -5.40637301e-14,  1.04096797e-12]), 11184: array([1.85937632e-09]), 11198: array([ 5.94349009e-11, -5.75700023e-11,  2.19870904e-13, -3.22583144e-13,\n",
      "       -1.24070728e-14,  1.95938352e-13, -5.20170292e-15, -1.66393779e-13,\n",
      "        6.36218575e-14,  3.56508455e-13,  3.06438192e-13, -3.31621218e-14,\n",
      "       -1.33243348e-13, -5.10304574e-13, -7.29615689e-13, -2.05978508e-13,\n",
      "        3.65088107e-13, -7.32617147e-13, -3.82373033e-13, -3.04479243e-13,\n",
      "       -1.26815632e-13, -8.07773435e-13, -2.93598489e-13,  1.98285195e-13,\n",
      "       -2.66545948e-13,  2.76911049e-13, -1.13037110e-13, -1.37250284e-13,\n",
      "        6.36967224e-13,  9.25011907e-13, -6.50265851e-14,  1.46833927e-12,\n",
      "        4.89134036e-13, -5.66842108e-13, -9.96464778e-13,  5.81118451e-13,\n",
      "       -1.08929107e-12, -3.36270044e-13,  7.20191690e-13,  1.44159831e-13,\n",
      "       -1.71989558e-12, -1.86694769e-13, -1.80693744e-12,  2.32194154e-13,\n",
      "        1.03584291e-12, -8.18925590e-13, -6.13420726e-13, -1.19083121e-12,\n",
      "        1.72574439e-12,  2.77302146e-12, -7.83778958e-13,  1.35622279e-11])}, attr={'solve_time': 0.0168097, 'setup_time': 0.0008593, 'num_iters': 11, 'solver_specific_stats': {'x': array([0.09487092, 0.00285083, 0.00403209, 0.00543829, 0.03738602,\n",
      "       0.01764111, 0.0020437 , 0.00220199, 0.00365243, 0.02550325,\n",
      "       0.07877384, 0.09595296, 0.06475489, 0.00261081, 0.00663902,\n",
      "       0.00999216, 0.00383257, 0.00293807, 0.00972528, 0.00283196,\n",
      "       0.00872834, 0.00271268, 0.01546255, 0.00480176, 0.01155664,\n",
      "       0.09847891, 0.00764396, 0.00279766, 0.00459031, 0.00689361,\n",
      "       0.00570932, 0.07143421, 0.00923093, 0.07549918, 0.01792332,\n",
      "       0.0361088 , 0.01855883, 0.00665492, 0.00644133, 0.01703573,\n",
      "       0.07300454, 0.00418241, 0.00515864, 0.00068931, 0.0024402 ,\n",
      "       0.00052481, 0.00481309, 0.00329106, 0.00351847, 0.00044229,\n",
      "       0.01657298, 0.01608217]), 'y': array([-2.04614311e-12]), 'z': array([ 2.04525608e-13,  3.60661873e-12,  2.45275587e-12,  1.72578837e-12,\n",
      "        1.22078184e-13,  4.31152430e-13,  3.96018306e-12,  3.78008835e-12,\n",
      "        2.73997491e-12,  2.28557439e-13,  2.31328312e-13,  1.67751834e-13,\n",
      "        3.15471317e-13,  3.30809329e-12,  1.74739514e-12,  1.02589344e-12,\n",
      "        2.61423846e-12,  3.02845108e-12,  7.53682325e-13,  3.29310240e-12,\n",
      "        1.17158774e-12,  3.39566421e-12,  5.49949613e-13,  1.97470964e-12,\n",
      "        7.76015869e-13,  1.40560693e-13,  1.36579950e-12,  3.01511613e-12,\n",
      "        2.31714393e-12,  1.42926059e-12,  1.84779682e-12,  4.16961935e-13,\n",
      "        1.13653232e-12,  3.00347399e-13,  4.51784660e-13,  3.44083610e-13,\n",
      "        5.63160165e-13,  1.64259317e-12,  1.66479780e-12,  4.35727425e-13,\n",
      "        3.78362503e-13,  2.23551745e-12,  2.11376083e-12,  6.47611955e-12,\n",
      "        3.82064592e-12,  6.16358353e-12,  2.13920384e-12,  3.03846995e-12,\n",
      "        2.78436866e-12,  6.26270992e-12,  1.46106416e-12,  1.23346180e-13,\n",
      "        1.27392970e-13,  1.31672329e-13,  2.17719771e-13,  1.60661953e-13,\n",
      "        1.20252104e-13,  1.20823161e-13,  1.26173056e-13,  1.73612057e-13,\n",
      "        6.22547124e-13,  7.67301191e-13,  1.79864614e-13,  1.22276436e-13,\n",
      "        1.36319434e-13,  1.45098842e-13,  1.26668961e-13,  1.23467671e-13,\n",
      "        1.42437915e-13,  1.23212207e-13,  1.41632561e-13,  1.22666301e-13,\n",
      "        1.58205135e-13,  1.29555532e-13,  1.47710817e-13,  1.76912162e-12,\n",
      "        1.37954714e-13,  1.22888234e-13,  1.29107302e-13,  1.35913915e-13,\n",
      "        1.32854385e-13,  5.60454001e-13,  1.42960895e-13,  3.87567468e-13,\n",
      "        1.64230359e-13,  1.85884452e-13,  1.66234301e-13,  1.35891441e-13,\n",
      "        1.35367787e-13,  1.57567714e-13,  5.78450352e-13,  1.27704957e-13,\n",
      "        1.31428462e-13,  1.15186706e-13,  1.21789554e-13,  1.14586651e-13,\n",
      "        1.30008502e-13,  1.24869992e-13,  1.25655844e-13,  1.14283629e-13,\n",
      "        1.42434601e-09,  1.85937632e-09,  4.52993899e-12, -4.38221011e-12,\n",
      "        1.61909981e-14, -2.36376995e-14, -4.46732103e-16,  1.47846195e-14,\n",
      "        7.62305175e-16, -1.19283899e-14,  4.14194828e-15,  2.43416593e-14,\n",
      "        2.23775968e-14, -4.45479325e-15, -8.82344399e-15, -3.94148543e-14,\n",
      "       -5.27960733e-14, -1.52792786e-14,  2.85331379e-14, -5.48465420e-14,\n",
      "       -2.86511629e-14, -2.19601819e-14, -9.26329717e-15, -5.96184023e-14,\n",
      "       -2.20523252e-14,  1.38300014e-14, -2.03622187e-14,  1.98454964e-14,\n",
      "       -5.32793281e-15, -1.21739819e-14,  4.68355108e-14,  6.75026902e-14,\n",
      "       -2.53320868e-15,  1.05958179e-13,  3.69679310e-14, -4.08236578e-14,\n",
      "       -7.33838852e-14,  3.98847758e-14, -7.87437368e-14, -2.56905938e-14,\n",
      "        5.52479156e-14,  9.68618046e-15, -1.28690115e-13, -1.32239864e-14,\n",
      "       -1.32448262e-13,  1.73325757e-14,  7.23916019e-14, -6.20044813e-14,\n",
      "       -4.51070812e-14, -8.52492151e-14,  1.26394600e-13,  2.05272455e-13,\n",
      "       -5.40637301e-14,  1.04096797e-12,  5.94349009e-11, -5.75700023e-11,\n",
      "        2.19870904e-13, -3.22583144e-13, -1.24070728e-14,  1.95938352e-13,\n",
      "       -5.20170292e-15, -1.66393779e-13,  6.36218575e-14,  3.56508455e-13,\n",
      "        3.06438192e-13, -3.31621218e-14, -1.33243348e-13, -5.10304574e-13,\n",
      "       -7.29615689e-13, -2.05978508e-13,  3.65088107e-13, -7.32617147e-13,\n",
      "       -3.82373033e-13, -3.04479243e-13, -1.26815632e-13, -8.07773435e-13,\n",
      "       -2.93598489e-13,  1.98285195e-13, -2.66545948e-13,  2.76911049e-13,\n",
      "       -1.13037110e-13, -1.37250284e-13,  6.36967224e-13,  9.25011907e-13,\n",
      "       -6.50265851e-14,  1.46833927e-12,  4.89134036e-13, -5.66842108e-13,\n",
      "       -9.96464778e-13,  5.81118451e-13, -1.08929107e-12, -3.36270044e-13,\n",
      "        7.20191690e-13,  1.44159831e-13, -1.71989558e-12, -1.86694769e-13,\n",
      "       -1.80693744e-12,  2.32194154e-13,  1.03584291e-12, -8.18925590e-13,\n",
      "       -6.13420726e-13, -1.19083121e-12,  1.72574439e-12,  2.77302146e-12,\n",
      "       -7.83778958e-13,  1.35622279e-11]), 's': array([ 9.48709159e-02,  2.85083228e-03,  4.03209466e-03,  5.43828540e-03,\n",
      "        3.73860234e-02,  1.76411066e-02,  2.04369507e-03,  2.20198569e-03,\n",
      "        3.65243074e-03,  2.55032543e-02,  7.87738417e-02,  9.59529572e-02,\n",
      "        6.47548871e-02,  2.61080871e-03,  6.63901749e-03,  9.99215749e-03,\n",
      "        3.83257211e-03,  2.93806625e-03,  9.72527864e-03,  2.83196333e-03,\n",
      "        8.72833879e-03,  2.71267795e-03,  1.54625548e-02,  4.80176053e-03,\n",
      "        1.15566365e-02,  9.84789143e-02,  7.64395823e-03,  2.79766119e-03,\n",
      "        4.59031445e-03,  6.89360923e-03,  5.70931986e-03,  7.14342143e-02,\n",
      "        9.23093063e-03,  7.54991805e-02,  1.79233226e-02,  3.61088016e-02,\n",
      "        1.85588313e-02,  6.65491924e-03,  6.44133065e-03,  1.70357256e-02,\n",
      "        7.30045367e-02,  4.18241151e-03,  5.15863994e-03,  6.89310601e-04,\n",
      "        2.44020376e-03,  5.24813327e-04,  4.81309455e-03,  3.29105917e-03,\n",
      "        3.51846760e-03,  4.42286397e-04,  5.12908410e-03,  9.71491677e-02,\n",
      "        9.59679053e-02,  9.45617146e-02,  6.26139766e-02,  8.23588934e-02,\n",
      "        9.79563049e-02,  9.77980143e-02,  9.63475693e-02,  7.44967457e-02,\n",
      "        2.12261583e-02,  4.04704280e-03,  3.52451129e-02,  9.73891913e-02,\n",
      "        9.33609825e-02,  9.00078425e-02,  9.61674279e-02,  9.70619338e-02,\n",
      "        9.02747214e-02,  9.71680367e-02,  9.12716612e-02,  9.72873221e-02,\n",
      "        8.45374452e-02,  9.51982395e-02,  8.84433635e-02,  1.52108573e-03,\n",
      "        9.23560418e-02,  9.72023388e-02,  9.54096856e-02,  9.31063908e-02,\n",
      "        9.42906801e-02,  2.85657857e-02,  9.07690694e-02,  2.45008195e-02,\n",
      "        8.20766774e-02,  6.38911984e-02,  8.14411687e-02,  9.33450808e-02,\n",
      "        9.35586694e-02,  8.29642744e-02,  2.69954633e-02,  9.58175885e-02,\n",
      "        9.48413601e-02,  9.93106894e-02,  9.75597962e-02,  9.94751867e-02,\n",
      "        9.51869055e-02,  9.67089408e-02,  9.64815324e-02,  9.95577136e-02,\n",
      "        1.42899263e-05,  3.04167740e-05,  1.01657298e+00,  9.83427017e-01,\n",
      "       -3.46026240e-03,  5.78383282e-03,  8.71111055e-04, -2.53539998e-03,\n",
      "        5.37888588e-04,  3.05937578e-03, -1.84408387e-03, -5.51880599e-03,\n",
      "       -2.73186709e-03,  5.72491443e-04,  1.71976491e-03,  8.02838513e-03,\n",
      "        9.98764620e-03,  2.24812899e-03, -4.61225624e-03,  1.29878040e-02,\n",
      "        2.73843117e-03,  2.63784448e-03,  3.85008611e-03,  1.16610918e-02,\n",
      "        4.90473965e-03, -3.09948547e-03,  3.79605194e-03, -4.95505438e-03,\n",
      "        5.44319298e-04,  2.96934568e-03, -9.98161190e-03, -1.47547420e-02,\n",
      "        6.19351487e-04, -2.25193095e-02, -8.18252988e-03,  1.00464462e-02,\n",
      "        1.30694732e-02, -1.19020409e-02,  1.60823812e-02,  6.65645479e-03,\n",
      "       -1.14842079e-02, -3.09448663e-04,  2.69203319e-02,  2.97777200e-04,\n",
      "        2.87552473e-02, -4.86076150e-03, -1.56491148e-02,  1.51724419e-02,\n",
      "        9.76673487e-03,  1.95458938e-02, -2.99645694e-02, -4.47973966e-02,\n",
      "        1.51272287e-02, -2.31216289e-01,  1.01608217e+00,  9.83917830e-01,\n",
      "       -3.46026240e-03,  5.78383282e-03,  8.71111055e-04, -2.53539998e-03,\n",
      "        5.37888588e-04,  3.05937578e-03, -1.84408387e-03, -5.51880599e-03,\n",
      "       -2.73186709e-03,  5.72491443e-04,  1.71976491e-03,  8.02838513e-03,\n",
      "        9.98764620e-03,  2.24812899e-03, -4.61225624e-03,  1.29878040e-02,\n",
      "        2.73843117e-03,  2.63784448e-03,  3.85008611e-03,  1.16610918e-02,\n",
      "        4.90473965e-03, -3.09948547e-03,  3.79605194e-03, -4.95505438e-03,\n",
      "        5.44319298e-04,  2.96934568e-03, -9.98161190e-03, -1.47547420e-02,\n",
      "        6.19351487e-04, -2.25193095e-02, -8.18252988e-03,  1.00464462e-02,\n",
      "        1.30694732e-02, -1.19020409e-02,  1.60823812e-02,  6.65645479e-03,\n",
      "       -1.14842079e-02, -3.09448663e-04,  2.69203319e-02,  2.97777200e-04,\n",
      "        2.87552473e-02, -4.86076150e-03, -1.56491148e-02,  1.51724419e-02,\n",
      "        9.76673487e-03,  1.95458938e-02, -2.99645694e-02, -4.47973966e-02,\n",
      "        1.51272287e-02, -2.31216289e-01]), 'info': {'exitFlag': 0, 'pcost': 0.0, 'dcost': -1.3454569327776714e-12, 'pres': 1.2684684921546337e-13, 'dres': 2.2037814781801534e-13, 'pinf': 0.0, 'dinf': 0.0, 'pinfres': nan, 'dinfres': nan, 'gap': 4.181255406298894e-10, 'relgap': nan, 'r0': 1e-08, 'iter': 11, 'mi_iter': -1, 'infostring': 'Optimal solution found', 'timing': {'runtime': 0.017669, 'tsetup': 0.0008593, 'tsolve': 0.0168097}, 'numerr': 0}}}))\n",
      "\n"
     ]
    },
    {
     "name": "stdout",
     "output_type": "stream",
     "text": [
      "(iteration 5) lower bound: -0.062500\n",
      "(iteration 5) upper bound: 0.000000\n",
      "(iteration 5) query point: -0.031250 \n",
      "(iteration 5) query was infeasible.\n",
      "\n",
      "(iteration 10) lower bound: -0.001953\n",
      "(iteration 10) upper bound: 0.000000\n",
      "(iteration 10) query point: -0.000977 \n",
      "(iteration 10) query was infeasible.\n",
      "\n",
      "(iteration 15) lower bound: -0.000305\n",
      "(iteration 15) upper bound: -0.000244\n",
      "(iteration 15) query point: -0.000275 \n",
      "(iteration 15) query was infeasible.\n",
      "\n",
      "(iteration 20) lower bound: -0.000256\n",
      "(iteration 20) upper bound: -0.000254\n",
      "(iteration 20) query point: -0.000255 \n",
      "(iteration 20) query was infeasible.\n",
      "\n",
      "Bisection completed, with lower bound -0.000255 and upper bound -0.0002537\n",
      "********************************************************************************\n",
      "\n",
      "Final Sharpe =  0.12598410315519892\n"
     ]
    }
   ],
   "source": [
    "weights = cp.Variable(50)\n",
    "mean_returns = np.mean(returns, axis=1)\n",
    "excess_mean_returns = mean_returns - daily_rfi\n",
    "calc_std_dev = cp.sqrt(cp.quad_form(weights, np.cov(returns)))\n",
    "sharpe_ratio = (excess_mean_returns @ weights) - 10*cp.quad_form(weights, np.cov(returns))\n",
    "cons = [\n",
    "        cp.sum(weights) == 1, \n",
    "        weights >= 0, \n",
    "        weights <= .1,\n",
    "        cp.sqrt(cp.quad_form(weights, np.cov(returns))) <= nifty_standard_deviation\n",
    "    ]\n",
    "problem = cp.Problem(cp.Maximize(sharpe_ratio), cons)\n",
    "problem.solve(verbose=True,qcp=True)\n",
    "std_dev = np.sqrt(np.matmul(np.matmul(weights.value,np.cov(returns)), weights.value.T))\n",
    "print(\"Final Sharpe = \" , excess_mean_returns@ weights.value/std_dev)"
   ]
  },
  {
   "cell_type": "code",
   "execution_count": 90,
   "id": "af4c2050",
   "metadata": {},
   "outputs": [
    {
     "name": "stdout",
     "output_type": "stream",
     "text": [
      "-0.0008106472160902527\n",
      "0.09999778409520564 6.810178108062822e-07\n"
     ]
    }
   ],
   "source": [
    "std_dev = np.sqrt(np.matmul(np.matmul(weights.value,np.cov(returns)), weights.value.T))\n",
    "print(std_dev - nifty_standard_deviation)\n",
    "print(np.max(weights.value), np.min(weights.value))"
   ]
  },
  {
   "cell_type": "markdown",
   "id": "3a932293",
   "metadata": {},
   "source": [
    "### This marks the completion of the maximizing using Convex Optimizers as well. This converges at  .125 looks like we found the same maximum earleir as well which would mean that we already had the lowest level standard deviation initially.¶\n",
    "#### But we move on to checks standard deviation less than nifty, ratios less 0.1(max: 0.0999994), greater than 0(min : 0.000004), , and sum as well 1"
   ]
  },
  {
   "cell_type": "markdown",
   "id": "10f2a431",
   "metadata": {},
   "source": [
    "## Fourth Approach\n",
    "#### Next we try gradient descent approach. Modelled w1 to percent returns as softmax, that leaves with only one constrain that the w1"
   ]
  },
  {
   "cell_type": "code",
   "execution_count": 52,
   "id": "6db18927",
   "metadata": {},
   "outputs": [],
   "source": [
    "from tqdm import tqdm_notebook"
   ]
  },
  {
   "cell_type": "code",
   "execution_count": 53,
   "id": "3f1ea1bd",
   "metadata": {},
   "outputs": [],
   "source": [
    "# we create a function to use derivatives\n",
    "def sharpe_ratio(weights, returns, rfi):\n",
    "    exp_wts = np.exp(weights)\n",
    "    ratios = exp_wts/np.sum(exp_wts)\n",
    "    mean_returns = np.mean(returns, axis=1)\n",
    "    excess_mean_returns = mean_returns - daily_rfi\n",
    "    std_dev = np.sqrt(np.matmul(np.matmul(ratios,np.cov(returns)), ratios.T))\n",
    "    return excess_mean_returns@ratios/std_dev"
   ]
  },
  {
   "cell_type": "code",
   "execution_count": 59,
   "id": "ee1fc14a",
   "metadata": {},
   "outputs": [],
   "source": [
    "# We use the three condtions on the weights, checked here\n",
    "def weight_check (weights):\n",
    "    ratios = np.exp(weights)/np.sum(np.exp(weights))\n",
    "    sums = np.sum(ratios)\n",
    "    print(sums)\n",
    "    print(np.max(ratios), np.min(ratios))"
   ]
  },
  {
   "cell_type": "code",
   "execution_count": 60,
   "id": "c77761a0",
   "metadata": {},
   "outputs": [],
   "source": [
    "# we can check the standard deviation condition here \n",
    "def std_check(weights, returns):\n",
    "    exp_wts = np.exp(weights)\n",
    "    ratios = exp_wts/np.sum(exp_wts)\n",
    "    std_dev = np.sqrt(np.matmul(np.matmul(ratios,np.cov(returns)), ratios.T))\n",
    "    return std_dev"
   ]
  },
  {
   "cell_type": "code",
   "execution_count": 54,
   "id": "a23d02cc",
   "metadata": {},
   "outputs": [
    {
     "name": "stderr",
     "output_type": "stream",
     "text": [
      "C:\\Users\\prakh\\AppData\\Local\\Temp/ipykernel_7840/4039882885.py:7: TqdmDeprecationWarning: This function will be removed in tqdm==5.0.0\n",
      "Please use `tqdm.notebook.tqdm` instead of `tqdm.tqdm_notebook`\n",
      "  for k in tqdm_notebook(range(30000)):\n"
     ]
    },
    {
     "data": {
      "application/vnd.jupyter.widget-view+json": {
       "model_id": "83ab32921b1349089bd45c2d36f05670",
       "version_major": 2,
       "version_minor": 0
      },
      "text/plain": [
       "  0%|          | 0/30000 [00:00<?, ?it/s]"
      ]
     },
     "metadata": {},
     "output_type": "display_data"
    }
   ],
   "source": [
    "weights = np.zeros(50)# right now the ratios are 1/50 = 0.02, which is within the limits\n",
    "learning_rate = 0.03 # roughly estimated it to be 1/100 of the intial weights\n",
    "learnt_weights = np.zeros(50)\n",
    "sharpes = []\n",
    "dw = 0.0001\n",
    "# we go for 1000 iterations or if the derivative is small enough(but no way to )\n",
    "for k in tqdm_notebook(range(30000)):\n",
    "    for i in range(50):\n",
    "        new_weights = np.array(weights)\n",
    "        new_weights[i] = new_weights[i] + dw\n",
    "        derivatives = (sharpe_ratio(new_weights,returns,daily_rfi) - sharpe_ratio(weights,returns,daily_rfi))/dw\n",
    "        learnt_weights[i] = weights[i] + learning_rate*(derivatives)\n",
    "    sharpes.append(sharpe_ratio(learnt_weights,returns,daily_rfi))\n",
    "    weights = np.array(learnt_weights)\n",
    "    if k%10000 == 0 and k!= 0:\n",
    "        learning_rate = learning_rate/2"
   ]
  },
  {
   "cell_type": "code",
   "execution_count": 57,
   "id": "83830f4c",
   "metadata": {},
   "outputs": [
    {
     "data": {
      "image/png": "[encoded data removed]",
      "text/plain": [
       "<Figure size 432x288 with 1 Axes>"
      ]
     },
     "metadata": {
      "needs_background": "light"
     },
     "output_type": "display_data"
    }
   ],
   "source": [
    "from matplotlib import pyplot as plt\n",
    "plt.plot(sharpes)\n",
    "plt.show()"
   ]
  },
  {
   "cell_type": "code",
   "execution_count": 58,
   "id": "3b463f79",
   "metadata": {},
   "outputs": [
    {
     "data": {
      "text/plain": [
       "0.141555375986325"
      ]
     },
     "execution_count": 58,
     "metadata": {},
     "output_type": "execute_result"
    }
   ],
   "source": [
    "np.max(sharpes)"
   ]
  },
  {
   "cell_type": "code",
   "execution_count": 61,
   "id": "8757661f",
   "metadata": {},
   "outputs": [
    {
     "name": "stdout",
     "output_type": "stream",
     "text": [
      "1.0000000000000002\n",
      "0.9032334672226752 0.0009156538353771781\n"
     ]
    }
   ],
   "source": [
    "weight_check(weights)"
   ]
  },
  {
   "cell_type": "code",
   "execution_count": 62,
   "id": "22c6a46f",
   "metadata": {},
   "outputs": [
    {
     "data": {
      "text/plain": [
       "0.011038890473759345"
      ]
     },
     "execution_count": 62,
     "metadata": {},
     "output_type": "execute_result"
    }
   ],
   "source": [
    "std_check(weights,returns) - nifty_standard_deviation"
   ]
  },
  {
   "cell_type": "markdown",
   "id": "74c1494e",
   "metadata": {},
   "source": [
    "## Gradient descent again !\n",
    "#### But now we put the limits on the ratio of each being less 0.1, and softmax takes care of the other 2 conditions. \n",
    "##### As we talk about the standard deviation being less than nifty standard deviation , the intial weights have the standard deviation less than that of the nifty, hence the gradient going in the direction of increasing standard deviation by a lot is very unlikely,(Since the standrd deviation is in the denominator if our cost(reward) function). If the experimented result was not under the given standard deviation my plan was to add one more - standard deviation to sharpe to create a new rewarrd funtion"
   ]
  },
  {
   "cell_type": "code",
   "execution_count": 68,
   "id": "f27da4ff",
   "metadata": {},
   "outputs": [
    {
     "name": "stderr",
     "output_type": "stream",
     "text": [
      "C:\\Users\\prakh\\AppData\\Local\\Temp/ipykernel_7840/3327879098.py:8: TqdmDeprecationWarning: This function will be removed in tqdm==5.0.0\n",
      "Please use `tqdm.notebook.tqdm` instead of `tqdm.tqdm_notebook`\n",
      "  for k in tqdm_notebook(range(100000)):\n"
     ]
    },
    {
     "data": {
      "application/vnd.jupyter.widget-view+json": {
       "model_id": "a3f22b255b504186964c9bbed59d028d",
       "version_major": 2,
       "version_minor": 0
      },
      "text/plain": [
       "  0%|          | 0/100000 [00:00<?, ?it/s]"
      ]
     },
     "metadata": {},
     "output_type": "display_data"
    }
   ],
   "source": [
    "weights = np.zeros(50)# right now the ratios are 1/50 = 0.02, which is within the limits\n",
    "learning_rate = 0.05 # roughly estimated it to be 1/100 of the intial weights\n",
    "learnt_weights = np.zeros(50)\n",
    "sds = []\n",
    "sharpes = []\n",
    "dw = 0.0001\n",
    "# we go for 1000 iterations or if the derivative is small enough(but no way to )\n",
    "for k in tqdm_notebook(range(100000)):\n",
    "    for i in range(50):\n",
    "        new_weights = np.array(weights)\n",
    "        new_weights[i] = new_weights[i] + dw\n",
    "        derivatives = (sharpe_ratio(new_weights,returns,daily_rfi) - sharpe_ratio(weights,returns,daily_rfi))/dw\n",
    "        learnt_weights[i] = min(weights[i] + learning_rate*(derivatives), np.log(0.09995*np.sum(np.exp(learnt_weights))))\n",
    "    sharpes.append(sharpe_ratio(learnt_weights,returns,daily_rfi))\n",
    "    weights = np.array(learnt_weights)\n",
    "    sds.append(std_check(weights,returns))\n",
    "#     if k%10000 == 0 and k!= 0:\n",
    "#         learning_rate = learning_rate/2"
   ]
  },
  {
   "cell_type": "code",
   "execution_count": 69,
   "id": "179e4b01",
   "metadata": {},
   "outputs": [
    {
     "data": {
      "image/png": "[encoded data removed]",
      "text/plain": [
       "<Figure size 432x288 with 1 Axes>"
      ]
     },
     "metadata": {
      "needs_background": "light"
     },
     "output_type": "display_data"
    }
   ],
   "source": [
    "plt.plot(sharpes)\n",
    "plt.show() "
   ]
  },
  {
   "cell_type": "code",
   "execution_count": 70,
   "id": "06496172",
   "metadata": {},
   "outputs": [
    {
     "data": {
      "text/plain": [
       "0.11146721902489803"
      ]
     },
     "execution_count": 70,
     "metadata": {},
     "output_type": "execute_result"
    }
   ],
   "source": [
    "np.max(sharpes)"
   ]
  },
  {
   "cell_type": "code",
   "execution_count": 71,
   "id": "d54dacc8",
   "metadata": {},
   "outputs": [
    {
     "name": "stdout",
     "output_type": "stream",
     "text": [
      "1.0\n",
      "0.09995232161780246 0.0014897049705663234\n"
     ]
    }
   ],
   "source": [
    "weight_check(weights)"
   ]
  },
  {
   "cell_type": "code",
   "execution_count": 72,
   "id": "f0d75926",
   "metadata": {},
   "outputs": [
    {
     "data": {
      "text/plain": [
       "-0.0001969701570233278"
      ]
     },
     "execution_count": 72,
     "metadata": {},
     "output_type": "execute_result"
    }
   ],
   "source": [
    "std_check(weights,returns) - nifty_standard_deviation"
   ]
  },
  {
   "cell_type": "markdown",
   "id": "c2a8dcfb",
   "metadata": {},
   "source": [
    "### This marks the completion of the maximizing using gardient descent as well. for this learning rate the maximum sharpe value converges at sharpe ratio about .1114(still the derivatives were not 0). Maybe we can a better result with the little less learning and a lot more iterations (could converge the previous highest .125). \n",
    "#### But we move on to checks standard deviation less than nifty, ratios less 0.1(max: 0.09995), greater than 0(min : 0.0014), , and sum as well 1"
   ]
  },
  {
   "cell_type": "code",
   "execution_count": null,
   "id": "e13d64d0",
   "metadata": {},
   "outputs": [],
   "source": []
  }
 ],
 "metadata": {
  "kernelspec": {
   "display_name": "Python 3 (ipykernel)",
   "language": "python",
   "name": "python3"
  },
  "language_info": {
   "codemirror_mode": {
    "name": "ipython",
    "version": 3
   },
   "file_extension": ".py",
   "mimetype": "text/x-python",
   "name": "python",
   "nbconvert_exporter": "python",
   "pygments_lexer": "ipython3",
   "version": "3.9.7"
  }
 },
 "nbformat": 4,
 "nbformat_minor": 5
}
