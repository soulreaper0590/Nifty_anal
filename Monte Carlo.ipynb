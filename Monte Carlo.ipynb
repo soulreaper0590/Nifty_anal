{
 "cells": [
  {
   "cell_type": "code",
   "execution_count": 1,
   "id": "8341f1f7",
   "metadata": {},
   "outputs": [],
   "source": [
    "import yfinance as yf\n",
    "import numpy as np"
   ]
  },
  {
   "cell_type": "code",
   "execution_count": 2,
   "id": "6b6eb67b",
   "metadata": {},
   "outputs": [],
   "source": [
    "import pandas as pd"
   ]
  },
  {
   "cell_type": "code",
   "execution_count": 17,
   "id": "f85df3f9",
   "metadata": {},
   "outputs": [],
   "source": [
    "from matplotlib import pyplot as plt"
   ]
  },
  {
   "cell_type": "code",
   "execution_count": 7,
   "id": "476eb5ea",
   "metadata": {},
   "outputs": [],
   "source": [
    "# Read nifty last year data\n",
    "nifty_data = pd.read_csv(\"Nifty50.csv\")"
   ]
  },
  {
   "cell_type": "code",
   "execution_count": 57,
   "id": "f7d57ebe",
   "metadata": {},
   "outputs": [
    {
     "name": "stdout",
     "output_type": "stream",
     "text": [
      "0.00016793635483612304\n"
     ]
    }
   ],
   "source": [
    "# Closeing prices ,is what we base our simluations\n",
    "nifty_daily_returns = nifty_data[\"Close\"].pct_change()[1:]\n",
    "print(np.mean(nifty_daily_returns))"
   ]
  },
  {
   "cell_type": "code",
   "execution_count": 39,
   "id": "895795c4",
   "metadata": {},
   "outputs": [
    {
     "name": "stdout",
     "output_type": "stream",
     "text": [
      "-0.13469767441860464\n"
     ]
    }
   ],
   "source": [
    "# Nifty drawdown from last year\n",
    "close_prices = list(nifty_data[\"Close\"])\n",
    "close_prices.index(max(close_prices))\n",
    "print((min(close_prices[ind_max:]) - max(close_prices))/max(close_prices))"
   ]
  },
  {
   "cell_type": "code",
   "execution_count": 58,
   "id": "acadb8c4",
   "metadata": {},
   "outputs": [
    {
     "name": "stdout",
     "output_type": "stream",
     "text": [
      "0.010892960588578882\n"
     ]
    }
   ],
   "source": [
    "# Nifty daily returns standard deviation\n",
    "nifty_standard_deviation = nifty_daily_returns.std()\n",
    "print(nifty_standard_deviation)"
   ]
  },
  {
   "cell_type": "code",
   "execution_count": 11,
   "id": "ad01fc44",
   "metadata": {},
   "outputs": [],
   "source": [
    "#NIfty daily returns means\n",
    "nifty_mean = np.mean(nifty_daily_returns)"
   ]
  },
  {
   "cell_type": "markdown",
   "id": "05c4f3b8",
   "metadata": {},
   "source": [
    "## Modelling the Expected Returns for the upcoming year.\n",
    "####  The distribution used for the daily returns normal. The mean and the standrad deviation was used from the last year's data. We convert the daily returns into asset prices and then we use the maximum drawdown formulae for each iteration, to find out the maximum, drawdown in each year. "
   ]
  },
  {
   "cell_type": "code",
   "execution_count": 52,
   "id": "df945b06",
   "metadata": {},
   "outputs": [],
   "source": [
    "mean_returns = []\n",
    "drawdown = []\n",
    "for k in range(10000):\n",
    "    pct_change = np.random.normal(nifty_mean, nifty_standard_deviation, size = len(nifty_data))\n",
    "    mean_returns.append(np.mean(pct_change))\n",
    "    start_price = list(nifty_data[\"Close\"])[-1]\n",
    "    close_prices = []\n",
    "    for k in pct_change:\n",
    "        close_prices.append((1 + k)*start_price)\n",
    "        start_prices = close_prices[-1]\n",
    "    ind_max = close_prices.index(max(close_prices))\n",
    "    maximum_drawdown = (min(close_prices[ind_max:]) - max(close_prices))/max(close_prices)\n",
    "    maximum_drawdown = maximum_drawdown*100\n",
    "    drawdown.append(maximum_drawdown)"
   ]
  },
  {
   "cell_type": "code",
   "execution_count": 53,
   "id": "ad810d9c",
   "metadata": {},
   "outputs": [],
   "source": [
    "#Converting the mean returns to percent expected returns\n",
    "for i in range(len(mean_returns)):\n",
    "    mean_returns[i] = mean_returns[i]*100"
   ]
  },
  {
   "cell_type": "code",
   "execution_count": 61,
   "id": "e831c592",
   "metadata": {},
   "outputs": [
    {
     "data": {
      "image/png": "[encoded data removed]",
      "text/plain": [
       "<Figure size 432x288 with 1 Axes>"
      ]
     },
     "metadata": {
      "needs_background": "light"
     },
     "output_type": "display_data"
    }
   ],
   "source": [
    "num_bins = 10\n",
    "bin_range = (np.min(mean_returns), np.max(mean_returns))\n",
    "bin_counts, bin_edges = np.histogram(mean_returns, bins=num_bins, range=bin_range)\n",
    "bar_positions = np.arange(num_bins)\n",
    "plt.bar(bar_positions, bin_counts, align='center')\n",
    "plt.xlabel('Percent Expected Daily Returns')\n",
    "plt.ylabel('No. of Simulations')\n",
    "plt.title('Histogram For Expected Daily Returns')\n",
    "bin_labels = [round(np.min(mean_returns) + (i/10)*(np.max(mean_returns) - np.min(mean_returns)), 2) for i in range(num_bins)]\n",
    "plt.xticks(bar_positions, bin_labels)\n",
    "plt.show()"
   ]
  },
  {
   "cell_type": "code",
   "execution_count": 62,
   "id": "71def22b",
   "metadata": {},
   "outputs": [
    {
     "data": {
      "image/png": "[encoded data removed]",
      "text/plain": [
       "<Figure size 432x288 with 1 Axes>"
      ]
     },
     "metadata": {
      "needs_background": "light"
     },
     "output_type": "display_data"
    }
   ],
   "source": [
    "num_bins = 10\n",
    "bin_range = (np.min(drawdown), np.max(drawdown))\n",
    "bin_counts, bin_edges = np.histogram(drawdown, bins=num_bins, range=bin_range)\n",
    "bar_positions = np.arange(num_bins)\n",
    "plt.bar(bar_positions, bin_counts, align='center')\n",
    "plt.xlabel('Percent Maximum Drawdown')\n",
    "plt.ylabel('No. of Simulations')\n",
    "plt.title('Histogram For Maximum Drawdown for an year')\n",
    "bin_labels = [round(np.min(drawdown) + (i/10)*(np.max(drawdown) - np.min(drawdown)), 2) for i in range(num_bins)]\n",
    "plt.xticks(bar_positions, bin_labels)\n",
    "plt.show()"
   ]
  },
  {
   "cell_type": "code",
   "execution_count": null,
   "id": "35d9c222",
   "metadata": {},
   "outputs": [],
   "source": [
    "np.mean()"
   ]
  }
 ],
 "metadata": {
  "kernelspec": {
   "display_name": "Python 3 (ipykernel)",
   "language": "python",
   "name": "python3"
  },
  "language_info": {
   "codemirror_mode": {
    "name": "ipython",
    "version": 3
   },
   "file_extension": ".py",
   "mimetype": "text/x-python",
   "name": "python",
   "nbconvert_exporter": "python",
   "pygments_lexer": "ipython3",
   "version": "3.9.7"
  }
 },
 "nbformat": 4,
 "nbformat_minor": 5
}
